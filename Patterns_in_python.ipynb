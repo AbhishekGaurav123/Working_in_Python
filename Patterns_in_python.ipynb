{
 "cells": [
  {
   "cell_type": "code",
   "execution_count": 27,
   "id": "8d7d3568-ee44-4eb6-883f-6c114256e564",
   "metadata": {},
   "outputs": [
    {
     "name": "stdout",
     "output_type": "stream",
     "text": [
      "\n",
      "*****\n",
      "*****\n",
      "*****\n",
      "*****\n",
      "*****"
     ]
    }
   ],
   "source": [
    "n=6\n",
    "for i in range (1, n):\n",
    "    print()\n",
    "    \n",
    "    for j in range (1, n):\n",
    "        print(\"*\",end =\"\" )\n"
   ]
  },
  {
   "cell_type": "code",
   "execution_count": 33,
   "id": "a8a76d81-b27c-49f9-984b-1c781cd4e38d",
   "metadata": {},
   "outputs": [
    {
     "name": "stdout",
     "output_type": "stream",
     "text": [
      "\n",
      "*\n",
      "**\n",
      "***\n",
      "****\n",
      "*****"
     ]
    }
   ],
   "source": [
    "n=6\n",
    "for i in range(1,n):\n",
    "    print()\n",
    "    for j in range (1,i+1):\n",
    "        print(\"*\",end=\"\")"
   ]
  },
  {
   "cell_type": "code",
   "execution_count": 35,
   "id": "8e623eef-2ded-4878-a720-6cea3a7751b5",
   "metadata": {},
   "outputs": [
    {
     "name": "stdout",
     "output_type": "stream",
     "text": [
      "\n",
      "1\n",
      "12\n",
      "123\n",
      "1234\n",
      "12345"
     ]
    }
   ],
   "source": [
    "n=6\n",
    "for i in range(1, n):\n",
    "    print()\n",
    "    for j in range (1, i+1):\n",
    "        print(j, end=\"\")"
   ]
  },
  {
   "cell_type": "code",
   "execution_count": 37,
   "id": "66c19e90-0624-45af-addd-c5e9aa1cfeec",
   "metadata": {},
   "outputs": [
    {
     "name": "stdout",
     "output_type": "stream",
     "text": [
      "\n",
      "1\n",
      "22\n",
      "333\n",
      "4444\n",
      "55555"
     ]
    }
   ],
   "source": [
    "n=6\n",
    "for i in range(1, n):\n",
    "    print()\n",
    "    for j in range (1, i+1):\n",
    "        print(i, end=\"\")"
   ]
  },
  {
   "cell_type": "code",
   "execution_count": 55,
   "id": "e4295b06-0100-411a-bc78-1b978a15fc89",
   "metadata": {},
   "outputs": [
    {
     "name": "stdout",
     "output_type": "stream",
     "text": [
      "\n",
      "12345\n",
      "1234\n",
      "123\n",
      "12\n",
      "1\n"
     ]
    }
   ],
   "source": [
    "n=7\n",
    "for i in range (n, 1,-1):\n",
    "    print()\n",
    "    \n",
    "    n=n-1\n",
    "    for j in range(1,n):\n",
    "        print(j, end=\"\")"
   ]
  },
  {
   "cell_type": "code",
   "execution_count": 158,
   "id": "c07c24e6-8281-40e6-be9c-5c339f644c8f",
   "metadata": {},
   "outputs": [
    {
     "name": "stdout",
     "output_type": "stream",
     "text": [
      "\n",
      "    *    \n",
      "   ***   \n",
      "  *****  \n",
      " ******* \n",
      "*********"
     ]
    }
   ],
   "source": [
    "n=5\n",
    "for i in range (0,n):\n",
    "    print()\n",
    "    for j in range (0, n-i-1):\n",
    "        print(\" \",end=\"\")\n",
    "    for j in range (0, 2*i+1):\n",
    "        print(\"*\",end=\"\")\n",
    "    for j in range (0,n-i-1):\n",
    "        print(\" \", end=\"\")"
   ]
  },
  {
   "cell_type": "code",
   "execution_count": 174,
   "id": "e4a858b7-7433-4365-bd11-7603aaeee3c6",
   "metadata": {},
   "outputs": [
    {
     "name": "stdout",
     "output_type": "stream",
     "text": [
      "\n",
      "*********\n",
      " *******\n",
      "  *****\n",
      "   ***\n",
      "    *"
     ]
    }
   ],
   "source": [
    "n=5\n",
    "for i in range(0,n):\n",
    "    print()\n",
    "    for j in range (0,i):\n",
    "        print(\" \", end=\"\")\n",
    "    for j in range (0,2*n-2*i-1):\n",
    "        print(\"*\", end= \"\")\n",
    "    for j in range(0,i):\n",
    "        print(\"\",end=\"\")"
   ]
  },
  {
   "cell_type": "code",
   "execution_count": 176,
   "id": "5ce33741-5d57-4cb0-ae07-cb5bee944d7b",
   "metadata": {},
   "outputs": [
    {
     "name": "stdout",
     "output_type": "stream",
     "text": [
      "\n",
      "    *    \n",
      "   ***   \n",
      "  *****  \n",
      " ******* \n",
      "*********\n",
      "*********\n",
      " *******\n",
      "  *****\n",
      "   ***\n",
      "    *"
     ]
    }
   ],
   "source": [
    "n=5\n",
    "for i in range (0,n):\n",
    "    print()\n",
    "    for j in range (0, n-i-1):\n",
    "        print(\" \",end=\"\")\n",
    "    for j in range (0, 2*i+1):\n",
    "        print(\"*\",end=\"\")\n",
    "    for j in range (0,n-i-1):\n",
    "        print(\" \", end=\"\")\n",
    "for i in range(0,n):\n",
    "    print()\n",
    "    for j in range (0,i):\n",
    "        print(\" \", end=\"\")\n",
    "    for j in range (0,2*n-2*i-1):\n",
    "        print(\"*\", end= \"\")\n",
    "    for j in range(0,i):\n",
    "        print(\"\",end=\"\")"
   ]
  },
  {
   "cell_type": "code",
   "execution_count": 194,
   "id": "23324dc8-442a-4c99-b020-032c769dcc40",
   "metadata": {},
   "outputs": [
    {
     "name": "stdout",
     "output_type": "stream",
     "text": [
      "\n",
      "*\n",
      "**\n",
      "***\n",
      "****\n",
      "*****\n",
      "****\n",
      "***\n",
      "**\n",
      "*\n"
     ]
    }
   ],
   "source": [
    "n=6\n",
    "for i in range(1,n):\n",
    "    print()\n",
    "    for j in range(1,i+1):\n",
    "        print(\"*\", end=\"\")\n",
    "for i in range(n, 1, -1):\n",
    "    print()\n",
    "    for j in range(1,i-1):\n",
    "        print(\"*\", end=\"\")\n",
    "    "
   ]
  },
  {
   "cell_type": "code",
   "execution_count": null,
   "id": "5d518379-b673-4677-87f7-4ee556bc308d",
   "metadata": {},
   "outputs": [],
   "source": []
  }
 ],
 "metadata": {
  "kernelspec": {
   "display_name": "Python 3 (ipykernel)",
   "language": "python",
   "name": "python3"
  },
  "language_info": {
   "codemirror_mode": {
    "name": "ipython",
    "version": 3
   },
   "file_extension": ".py",
   "mimetype": "text/x-python",
   "name": "python",
   "nbconvert_exporter": "python",
   "pygments_lexer": "ipython3",
   "version": "3.12.4"
  }
 },
 "nbformat": 4,
 "nbformat_minor": 5
}
